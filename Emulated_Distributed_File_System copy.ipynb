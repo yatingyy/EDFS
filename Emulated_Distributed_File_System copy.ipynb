{
 "cells": [
  {
   "cell_type": "code",
   "execution_count": 1,
   "id": "9f2b79e1-2b56-4118-8d62-b25a35c3243c",
   "metadata": {},
   "outputs": [],
   "source": [
    "import sys\n",
    "import pandas as pd\n",
    "import numpy as np\n",
    "import requests\n",
    "import string\n",
    "import json\n",
    "import datetime\n",
    "import sqlite3\n",
    "from pandas.core.ops import invalid_comparison\n",
    "\n",
    "#web\n",
    "import warnings\n",
    "warnings.filterwarnings('ignore')\n",
    "\n",
    "import ipywidgets as widgets\n",
    "\n",
    "from IPython.display import display, clear_output\n",
    "\n",
    "from __future__ import print_function\n",
    "from ipywidgets import interact, interactive, fixed, interact_manual, Layout, Button, HBox, VBox, Box"
   ]
  },
  {
   "cell_type": "code",
   "execution_count": 2,
   "id": "95851b2f-13a2-4d8f-adfc-247b92392363",
   "metadata": {},
   "outputs": [
    {
     "name": "stdout",
     "output_type": "stream",
     "text": [
      "Enabling notebook extension jupyter-js-widgets/extension...\n",
      "      - Validating: \u001b[32mOK\u001b[0m\n",
      "Enabling: voila\n",
      "- Writing config: /Users/yatingyang/opt/anaconda3/etc/jupyter\n",
      "    - Validating...\n",
      "Error loading server extension voila\n",
      "     \u001b[31m X\u001b[0m is voila importable?\n"
     ]
    }
   ],
   "source": [
    "!jupyter nbextension enable --py widgetsnbextension --sys-prefix\n",
    "!jupyter serverextension enable voila --sys-prefix"
   ]
  },
  {
   "cell_type": "markdown",
   "id": "9c21252d",
   "metadata": {},
   "source": [
    "# EDFS"
   ]
  },
  {
   "cell_type": "code",
   "execution_count": 3,
   "id": "23caa168",
   "metadata": {},
   "outputs": [],
   "source": [
    "edfs = sqlite3.connect(\"edfs.db\")\n",
    "cur = edfs.cursor()"
   ]
  },
  {
   "cell_type": "code",
   "execution_count": 4,
   "id": "6130dda2-1b50-446d-b562-ecb7fc65fa24",
   "metadata": {},
   "outputs": [
    {
     "data": {
      "text/plain": [
       "<sqlite3.Cursor at 0x7fc1734067a0>"
      ]
     },
     "execution_count": 4,
     "metadata": {},
     "output_type": "execute_result"
    }
   ],
   "source": [
    "# SQLite set up\n",
    "edfs = sqlite3.connect(\"edfs.db\")\n",
    "cur = edfs.cursor()\n",
    "\n",
    "cur.execute(\"CREATE TABLE meta(id INTEGER primary key, name TEXT, type TEXT)\") \n",
    "cur.execute(\"INSERT INTO meta VALUES (1,'/','d')\") # root dir\n",
    "# meta table stores the id for each file and dir\n",
    "# Do we need to store permision, access and modification time?\n",
    "# assign id in order, use max()+1 to assign the id for the next dir/file\n",
    "cur.execute(\"CREATE TABLE dir(parent INTEGER, child INTEGER, primary key (parent, child))\") \n",
    "# dir table stores the directory structure of the file system\n",
    "cur.execute(\"CREATE TABLE par(id INTEGER, location)\") \n",
    "# par table stores the partition infor about a file\n"
   ]
  },
  {
   "cell_type": "code",
   "execution_count": 5,
   "id": "0cf167f6-40cb-4033-9bdd-7977f61b0f48",
   "metadata": {},
   "outputs": [],
   "source": [
    "def exist(path): # path: directory or file, eg. \"/user/john\" or \"/user/hello.txt\"\n",
    "    path = path.strip() # remove white space before or after the path\n",
    "    if path[0] == \"/\" and path[-1] != \"/\":# valid path starts with \"/\" - root, and does not end with \"/\"\n",
    "    #id_parent = cur.execute(\"select id from meta where name = '/'\").fetchall()  id of root\n",
    "        id_parent = 1\n",
    "        path = path[1:] # get rid of the root\n",
    "        path = path.split(\"/\") # list of the rest of the path - the name of each directory/file\n",
    "        n = len(path)\n",
    "        while n > 0: \n",
    "            position = len(path)-n\n",
    "            id_child = cur.execute(\"select child from dir where parent = ? and child in (select id FROM meta where name = ?)\", (id_parent, path[position])).fetchall()\n",
    "          # check if the child exist and if the the parent-child relationship exist\n",
    "            if id_child != []:# if there exists such child, it should be unique\n",
    "                id_parent = id_child[0][0] # set the child as the new parent, and go back to the while loop to check for the next directory/file in path\n",
    "                n = n - 1\n",
    "            else:\n",
    "                break\n",
    "        if n > 0:\n",
    "            return \"\"\n",
    "        else: \n",
    "            return id_parent\n",
    "    elif path == \"/\": # if the input is the root\n",
    "        return 1\n",
    "    else: \n",
    "        return \"\""
   ]
  },
  {
   "cell_type": "code",
   "execution_count": 6,
   "id": "328dca78-82b3-434f-867c-7199bb9d0376",
   "metadata": {},
   "outputs": [],
   "source": [
    "def mkdir(d):# d: directory\n",
    "  # if the directory already exists, notify the user\n",
    "  # check if the dir exist: get the id for the parent dir, search it in the dir table to get all the children\n",
    "  # use a for loop to go through every child's name in meta table using the ids\n",
    "    d = str(d)\n",
    "    if d == \"/\":\n",
    "        print(\"Directory already exist.\")\n",
    "    elif d[0] == \"/\" and d[-1] != \"/\":\n",
    "        d = d.split('/')\n",
    "        d_new = d # copy the list of directories into d_new\n",
    "        d_new = d_new[:-1]\n",
    "        if d_new == ['']: \n",
    "            d_new = \"/\"\n",
    "        else: \n",
    "            d_new = \"/\".join(d_new)\n",
    "        id_parent = exist(d_new)\n",
    "        if id_parent != \"\": \n",
    "            type_parent = cur.execute(\"select type from meta where meta.id = ?\", (id_parent,)).fetchone()[0]\n",
    "            if type_parent == \"d\": \n",
    "                id_child = cur.execute(\"select child from dir where parent = ? and child in (select id FROM meta where name = ?)\", (id_parent, d[-1])).fetchall()\n",
    "                if id_child == []: # check if the directory already exist in the system\n",
    "                    max_id = cur.execute(\"SELECT max(id) FROM meta\").fetchone()\n",
    "                    max_id = max_id[0]\n",
    "                    id_child = max_id + 1 # the id assigned to the new directory\n",
    "                    cur.execute(\"INSERT INTO meta VALUES (?,?,'d')\",(id_child, d[-1])) ##id needs to be defined\n",
    "                    cur.execute(\"INSERT INTO dir VALUES (?,?)\",(id_parent,id_child))\n",
    "                    print(\"The directory has been created successfully.\")\n",
    "                else: \n",
    "                    print(\"Directory already exist.\")\n",
    "            else: \n",
    "                print(\"Please enter a valid directory.\")\n",
    "        else: \n",
    "            print(\"Please enter a valid directory.\")\n",
    "    else:\n",
    "        print(\"Please enter a valid directory.\")"
   ]
  },
  {
   "cell_type": "code",
   "execution_count": 7,
   "id": "8bb307da",
   "metadata": {},
   "outputs": [
    {
     "data": {
      "application/vnd.jupyter.widget-view+json": {
       "model_id": "bdd40b64f5c2448583329ebdf8e8940e",
       "version_major": 2,
       "version_minor": 0
      },
      "text/plain": [
       "HTML(value='Create a directory in file system. Instruction: enter the directory in the box, e.g. mkdir /user, …"
      ]
     },
     "metadata": {},
     "output_type": "display_data"
    },
    {
     "data": {
      "application/vnd.jupyter.widget-view+json": {
       "model_id": "5091517ac5e447be86c076e8163068ce",
       "version_major": 2,
       "version_minor": 0
      },
      "text/plain": [
       "Box(children=(Text(value='', description='mkdir', placeholder='type the directory here'), Button(description='…"
      ]
     },
     "metadata": {},
     "output_type": "display_data"
    },
    {
     "data": {
      "application/vnd.jupyter.widget-view+json": {
       "model_id": "2250e2b367794d859bb81007d0a97c96",
       "version_major": 2,
       "version_minor": 0
      },
      "text/plain": [
       "Output()"
      ]
     },
     "metadata": {},
     "output_type": "display_data"
    }
   ],
   "source": [
    "mkdir_text = widgets.Text(value = '',\n",
    "                          placeholder ='type the directory here',\n",
    "                          description = 'mkdir',\n",
    "                          disabled = False)\n",
    "mkdir_instruction = widgets.widgets.HTML('Create a directory in file system. Instruction: enter the directory in the box, e.g. mkdir /user, and click on submit.')\n",
    "\n",
    "submit_button = widgets.Button(description='Submit')\n",
    "def clicked(*b):\n",
    "    output1.clear_output()\n",
    "    with output1:\n",
    "        mkdir(mkdir_text.value)\n",
    "output1 = widgets.Output()\n",
    "\n",
    "layout = Layout(display='flex',\n",
    "                    flex_flow='row',\n",
    "                    align_items='stretch',\n",
    "                    width='70%')\n",
    "mkdir_items = [mkdir_text, submit_button]\n",
    "box = Box(children = mkdir_items, layout = layout)\n",
    "display(mkdir_instruction, box, output1)\n",
    "submit_button.on_click(clicked)"
   ]
  },
  {
   "cell_type": "code",
   "execution_count": 8,
   "id": "21886037-00d1-4960-9735-ad530dfd0ffd",
   "metadata": {},
   "outputs": [],
   "source": [
    "def ls(d):\n",
    "    # d: directory\n",
    "    d = str(d)\n",
    "    if d == \"/\":\n",
    "        l = cur.execute(\"select name from meta where id in (select child from dir where parent = 1)\").fetchall()\n",
    "        l_new = []\n",
    "        for i in range(len(l)):\n",
    "            l_new.append(l[i][0])\n",
    "            #print(l[i][0])\n",
    "        return l_new\n",
    "    #return cur.execute(\"select name from meta where id in (select child from dir where parent = 1)\").fetchall()\n",
    "    else: \n",
    "        d_new = d # copy the list of directories into d_new\n",
    "        d_new = d_new.split('/')\n",
    "        id_parent = exist(d)\n",
    "        if id_parent != \"\":\n",
    "            l = cur.execute(\"select name from meta where meta.id in (select child from dir where parent = ?)\",(id_parent,)).fetchall()\n",
    "            l_new = []\n",
    "            for i in range(len(l)):\n",
    "                l_new.append(l[i][0])\n",
    "                #print(l[i][0])\n",
    "            return l_new\n",
    "        #return cur.execute(\"select name from meta where meta.id in (select child from dir where parent = ?)\",(id_parent,)).fetchall()\n",
    "        else: \n",
    "            print(\"Please enter a valid directory.\")"
   ]
  },
  {
   "cell_type": "code",
   "execution_count": 9,
   "id": "11a41d3d-f8bb-4f43-aa01-048b4d6c55ba",
   "metadata": {},
   "outputs": [
    {
     "data": {
      "application/vnd.jupyter.widget-view+json": {
       "model_id": "80c1d9150744407ab48c4909f39c6855",
       "version_major": 2,
       "version_minor": 0
      },
      "text/plain": [
       "HTML(value='Listing content of a given directory. Instruction: enter the directory in the box, e.g. ls /user, …"
      ]
     },
     "metadata": {},
     "output_type": "display_data"
    },
    {
     "data": {
      "application/vnd.jupyter.widget-view+json": {
       "model_id": "18237d5d11174700bee20b7014ef0030",
       "version_major": 2,
       "version_minor": 0
      },
      "text/plain": [
       "Box(children=(Text(value='', description='ls', placeholder='type the directory here'), Button(description='Sub…"
      ]
     },
     "metadata": {},
     "output_type": "display_data"
    },
    {
     "data": {
      "application/vnd.jupyter.widget-view+json": {
       "model_id": "ae6311eeebb34623ac22b165e31b19fa",
       "version_major": 2,
       "version_minor": 0
      },
      "text/plain": [
       "Output()"
      ]
     },
     "metadata": {},
     "output_type": "display_data"
    }
   ],
   "source": [
    "ls_text = widgets.Text(value = '',\n",
    "                          placeholder ='type the directory here',\n",
    "                          description = 'ls',\n",
    "                          disabled = False)\n",
    "ls_instruction = widgets.widgets.HTML('Listing content of a given directory. Instruction: enter the directory in the box, e.g. ls /user, and click on submit.)')\n",
    "\n",
    "submit_button = widgets.Button(description='Submit')\n",
    "def clicked(*b):\n",
    "    output2.clear_output()\n",
    "    with output2:\n",
    "        list = ls(ls_text.value)\n",
    "        try: \n",
    "            for i in list: \n",
    "                print(i)\n",
    "        except: \n",
    "            pass\n",
    "output2 = widgets.Output()\n",
    "\n",
    "ls_items = [ls_text, submit_button]\n",
    "box = Box(children = ls_items, layout = layout)\n",
    "display(ls_instruction, box, output2)\n",
    "submit_button.on_click(clicked)"
   ]
  },
  {
   "cell_type": "code",
   "execution_count": 10,
   "id": "e1feb58a",
   "metadata": {},
   "outputs": [],
   "source": [
    "def put(file, path, k): # file: file name, path: the directory storing the file, k: # of partitions\n",
    "    file = str(file)\n",
    "    path = str(path)\n",
    "    k = int(k)\n",
    "    if file[-4:] == \".csv\": \n",
    "        check = cur.execute(\"select id FROM meta where name = ? and type = 'f'\", (file,)).fetchall()\n",
    "        if check == []: # if the file does not exist\n",
    "            id_parent = exist(path)\n",
    "            if id_parent != \"\":\n",
    "                try: \n",
    "                    df = pd.read_csv(file)\n",
    "\n",
    "                    max_id = cur.execute(\"SELECT max(id) FROM meta\").fetchone()\n",
    "                    max_id = max_id[0]\n",
    "                    fid = max_id + 1 # the id assigned to the new directory\n",
    "                    cur.execute(\"INSERT INTO meta VALUES (?,?,'f')\",(fid, file))\n",
    "                    cur.execute(\"INSERT INTO dir VALUES (?,?)\",(id_parent, fid))\n",
    "\n",
    "                    size = len(df.index)//k # partition size for first k-1 partitions\n",
    "                    start = 0\n",
    "                    fname = file.split(\".\")[0]\n",
    "                    for i in range(1, k): # the first k-1 partitions\n",
    "                        cur.execute(\"INSERT INTO par VALUES (?,?)\",(fid, fname+str(i))) # information on partition\n",
    "                        stop = start + size - 1\n",
    "                        partition = df.loc[start:stop]\n",
    "                        partition.to_sql(name = fname+str(i), con = edfs, index = False) ##### cannot retrieve the created table\n",
    "                        start = stop + 1\n",
    "                    cur.execute(\"INSERT INTO par VALUES (?,?)\",(fid, fname+str(k)))\n",
    "                    partition = df.loc[start:]\n",
    "                    partition.to_sql(name = fname+str(k), con = edfs, index = False) ##### cannot retrieve the created table\n",
    "                    print(\"The file has been uploaded successfully.\")\n",
    "                except: \n",
    "                    print(\"There is no such file.\")\n",
    "            else:\n",
    "                print(\"Please enter a valid directory.\")\n",
    "        else:\n",
    "            print(\"This file already exist in the system.\")\n",
    "    else: \n",
    "        print(\"Sorry, we only support uploading .csv files. \")"
   ]
  },
  {
   "cell_type": "code",
   "execution_count": 11,
   "id": "313b8442",
   "metadata": {},
   "outputs": [
    {
     "data": {
      "application/vnd.jupyter.widget-view+json": {
       "model_id": "f4cb407ebfe14f69adc31c89d3088ebc",
       "version_major": 2,
       "version_minor": 0
      },
      "text/plain": [
       "HTML(value='Uploading a file to file system. Instruction: enter the file name in the left box, enter the direc…"
      ]
     },
     "metadata": {},
     "output_type": "display_data"
    },
    {
     "data": {
      "application/vnd.jupyter.widget-view+json": {
       "model_id": "b261249c04754381bb771239dc789f73",
       "version_major": 2,
       "version_minor": 0
      },
      "text/plain": [
       "Box(children=(Text(value='', description='put', placeholder='type the file name here'), Text(value='', placeho…"
      ]
     },
     "metadata": {},
     "output_type": "display_data"
    },
    {
     "data": {
      "application/vnd.jupyter.widget-view+json": {
       "model_id": "7722f9d7c1a648ab8c812d7b08720eef",
       "version_major": 2,
       "version_minor": 0
      },
      "text/plain": [
       "Output()"
      ]
     },
     "metadata": {},
     "output_type": "display_data"
    }
   ],
   "source": [
    "style = {'description_width': 'initial'}\n",
    "put_file = widgets.Text(value = '',\n",
    "                          placeholder ='type the file name here',\n",
    "                          description = 'put',\n",
    "                          disabled = False)\n",
    "put_path = widgets.Text(value = '',\n",
    "                          placeholder ='type the directory here',\n",
    "                          description = '',\n",
    "                          disabled = False)\n",
    "put_k = widgets.IntText(description = '',\n",
    "                        disabled = False,\n",
    "                       style = style)\n",
    "put_instruction = widgets.widgets.HTML('Uploading a file to file system. Instruction: enter the file name in the left box, enter the directory you want to put the file into in the second box, and enter number of partitions you want to store the file in, e.g., put(cars.csv, /user/john, 5), and click on submit.')\n",
    "\n",
    "submit_button = widgets.Button(description='Submit')\n",
    "def clicked(*b):\n",
    "    output5.clear_output()\n",
    "    with output5: \n",
    "        put(put_file.value, put_path.value, put_k.value)\n",
    "        \n",
    "output5 = widgets.Output()\n",
    "\n",
    "put_items = [put_file, put_path, put_k, submit_button]\n",
    "box = Box(children = put_items, layout = layout)\n",
    "display(put_instruction, box, output5)\n",
    "submit_button.on_click(clicked)\n"
   ]
  },
  {
   "cell_type": "code",
   "execution_count": 12,
   "id": "939a22d8",
   "metadata": {},
   "outputs": [],
   "source": [
    "def cat(file): # file: must include file path\n",
    "    file = str(file)\n",
    "    if exist(file) != \"\": \n",
    "        fid = exist(file)\n",
    "        t = cur.execute(\"select type from meta where meta.id = ?\", (fid,)).fetchone()\n",
    "        t = t[0]\n",
    "        if t == 'f': \n",
    "            loc = cur.execute(\"select location from par where par.id = ?\", (fid,)).fetchall()\n",
    "            df = pd.DataFrame()\n",
    "            for l in loc:\n",
    "                df_new = pd.read_sql('select * from ' + l[0], edfs)\n",
    "                df = pd.concat([df, df_new], axis=0)\n",
    "            print(df)\n",
    "        else: \n",
    "            print(\"Please enter a valid file.\")\n",
    "    else:\n",
    "        print(\"Please enter a valid file.\")"
   ]
  },
  {
   "cell_type": "code",
   "execution_count": 13,
   "id": "cae86c4d",
   "metadata": {},
   "outputs": [
    {
     "data": {
      "application/vnd.jupyter.widget-view+json": {
       "model_id": "dc9b1ccfa6044629abb515659e86dd4a",
       "version_major": 2,
       "version_minor": 0
      },
      "text/plain": [
       "HTML(value='Display content of a file. Instruction: enter the file path in the box, e.g. cat /user/john/hello.…"
      ]
     },
     "metadata": {},
     "output_type": "display_data"
    },
    {
     "data": {
      "application/vnd.jupyter.widget-view+json": {
       "model_id": "fcec399f49904888bc518e080a7ec96b",
       "version_major": 2,
       "version_minor": 0
      },
      "text/plain": [
       "Box(children=(Text(value='', description='cat', placeholder='type the file path here'), Button(description='Su…"
      ]
     },
     "metadata": {},
     "output_type": "display_data"
    },
    {
     "data": {
      "application/vnd.jupyter.widget-view+json": {
       "model_id": "f0497baa2e624f348a134936e5a3df31",
       "version_major": 2,
       "version_minor": 0
      },
      "text/plain": [
       "Output()"
      ]
     },
     "metadata": {},
     "output_type": "display_data"
    }
   ],
   "source": [
    "cat_text = widgets.Text(value = '',\n",
    "                          placeholder ='type the file path here',\n",
    "                          description = 'cat',\n",
    "                          disabled = False)\n",
    "cat_instruction = widgets.widgets.HTML('Display content of a file. Instruction: enter the file path in the box, e.g. cat /user/john/hello.txt, and click on submit.')\n",
    "\n",
    "submit_button = widgets.Button(description='Submit')\n",
    "def clicked(*b):\n",
    "    output3.clear_output()\n",
    "    with output3: \n",
    "        cat(cat_text.value)\n",
    "output3 = widgets.Output()\n",
    "\n",
    "cat_items = [cat_text, submit_button]\n",
    "box = Box(children = cat_items, layout = layout)\n",
    "display(cat_instruction, box, output3)\n",
    "submit_button.on_click(clicked)"
   ]
  },
  {
   "cell_type": "code",
   "execution_count": 14,
   "id": "51d130cf",
   "metadata": {},
   "outputs": [],
   "source": [
    "def getPartitionLocations(file): # file: including path\n",
    "    file = str(file)\n",
    "    if exist(file) != \"\": \n",
    "        fid = exist(file)\n",
    "        t = cur.execute(\"select type from meta where meta.id = ?\", (fid,)).fetchone()\n",
    "        t = t[0]\n",
    "        if t == 'f': \n",
    "            loc = cur.execute(\"select location from par where par.id = ?\", (fid,)).fetchall()\n",
    "            L = []\n",
    "            for i in loc: \n",
    "                L.append(i[0])\n",
    "            return L\n",
    "        else: \n",
    "            print(\"Please enter a valid file.\")\n",
    "    else: \n",
    "        print(\"Please enter a valid file.\")"
   ]
  },
  {
   "cell_type": "code",
   "execution_count": 15,
   "id": "14ebe3f8",
   "metadata": {},
   "outputs": [
    {
     "data": {
      "application/vnd.jupyter.widget-view+json": {
       "model_id": "44e82633d2ed4b8b88be125596eaf7b0",
       "version_major": 2,
       "version_minor": 0
      },
      "text/plain": [
       "HTML(value='Return the locations of partitions of the file, in this case, the locations are table names. Instr…"
      ]
     },
     "metadata": {},
     "output_type": "display_data"
    },
    {
     "data": {
      "application/vnd.jupyter.widget-view+json": {
       "model_id": "7691283042e8432cb1f5a9829f94bcf1",
       "version_major": 2,
       "version_minor": 0
      },
      "text/plain": [
       "Box(children=(Text(value='', description='getPartitionLocations', placeholder='type the file path here', style…"
      ]
     },
     "metadata": {},
     "output_type": "display_data"
    },
    {
     "data": {
      "application/vnd.jupyter.widget-view+json": {
       "model_id": "15501843661944a48f2c0f59f0fb9085",
       "version_major": 2,
       "version_minor": 0
      },
      "text/plain": [
       "Output()"
      ]
     },
     "metadata": {},
     "output_type": "display_data"
    }
   ],
   "source": [
    "gPL_text = widgets.Text(value = '',\n",
    "                          placeholder ='type the file path here',\n",
    "                          description = 'getPartitionLocations',\n",
    "                          disabled = False, \n",
    "                       style = style)\n",
    "gPL_instruction = widgets.widgets.HTML('Return the locations of partitions of the file, in this case, the locations are table names. Instruction: enter the file path in the box, e.g. getPartitionLocations /user/john/hello.txt, and click on submit.')\n",
    "\n",
    "submit_button = widgets.Button(description='Submit')\n",
    "def clicked(*b):\n",
    "    output6.clear_output()\n",
    "    with output6: \n",
    "        Loc = getPartitionLocations(gPL_text.value)\n",
    "        if Loc != None: \n",
    "            print(Loc)\n",
    "output6 = widgets.Output()\n",
    "\n",
    "gPL_items = [gPL_text, submit_button]\n",
    "box = Box(children = gPL_items, layout = layout)\n",
    "display(gPL_instruction, box, output6)\n",
    "submit_button.on_click(clicked)"
   ]
  },
  {
   "cell_type": "code",
   "execution_count": 16,
   "id": "6793c090",
   "metadata": {},
   "outputs": [],
   "source": [
    "def readPartition(file, num): # file: including path, num: partition #\n",
    "    file = str(file)\n",
    "    num = int(num)\n",
    "    if exist(file) != \"\": \n",
    "        fid = exist(file)\n",
    "        t = cur.execute(\"select type from meta where meta.id = ?\", (fid,)).fetchone()\n",
    "        t = t[0]\n",
    "        if t == 'f': \n",
    "            if num > 0 and num <= len(getPartitionLocations(file)):\n",
    "                loc = cur.execute(\"select location from par where par.id = ?\", (fid,)).fetchall()\n",
    "                #df = pd.DataFrame()\n",
    "                df_new = pd.read_sql('select * from ' + loc[num-1][0], edfs)\n",
    "                return df_new\n",
    "            else: \n",
    "                print(\"Please enter a valid partition#.\")\n",
    "        else: \n",
    "            print(\"Please enter a valid file.\")\n",
    "    else:\n",
    "        print(\"Please enter a valid file.\")"
   ]
  },
  {
   "cell_type": "code",
   "execution_count": 17,
   "id": "5e5f2848",
   "metadata": {},
   "outputs": [
    {
     "data": {
      "application/vnd.jupyter.widget-view+json": {
       "model_id": "ede87fbc88914545bea4d589127c0fc5",
       "version_major": 2,
       "version_minor": 0
      },
      "text/plain": [
       "HTML(value='Show the content of a particular partition of the specified file. Instruction: enter the file path…"
      ]
     },
     "metadata": {},
     "output_type": "display_data"
    },
    {
     "data": {
      "application/vnd.jupyter.widget-view+json": {
       "model_id": "ace5bd1f886a4fe8b13d3f70513d31c8",
       "version_major": 2,
       "version_minor": 0
      },
      "text/plain": [
       "Box(children=(Text(value='', description='readPartition', placeholder='type the file path here', style=Descrip…"
      ]
     },
     "metadata": {},
     "output_type": "display_data"
    },
    {
     "data": {
      "application/vnd.jupyter.widget-view+json": {
       "model_id": "54847ff04a42459b8adc086737513b08",
       "version_major": 2,
       "version_minor": 0
      },
      "text/plain": [
       "Output()"
      ]
     },
     "metadata": {},
     "output_type": "display_data"
    }
   ],
   "source": [
    "rP_file = widgets.Text(value = '',\n",
    "                          placeholder ='type the file path here',\n",
    "                          description = 'readPartition',\n",
    "                          disabled = False,\n",
    "                      style=style)\n",
    "rP_num = widgets.IntText(placeholder ='type partition# here',\n",
    "                          description = '',\n",
    "                          disabled = False)\n",
    "rP_instruction = widgets.widgets.HTML('Show the content of a particular partition of the specified file. Instruction: enter the file path in the left box and specify the partition # you want to read in the right box, e.g. readPartition(/wildfire.csv, 3), and click on submit.')\n",
    "\n",
    "submit_button = widgets.Button(description='Submit')\n",
    "def clicked(*b):\n",
    "    output7.clear_output()\n",
    "    with output7: \n",
    "        Par = readPartition(rP_file.value, rP_num.value)\n",
    "        print(Par)\n",
    "output7 = widgets.Output()\n",
    "\n",
    "rP_items = [rP_file,rP_num, submit_button]\n",
    "box = Box(children = rP_items, layout = layout)\n",
    "display(rP_instruction, box, output7)\n",
    "submit_button.on_click(clicked)"
   ]
  },
  {
   "cell_type": "code",
   "execution_count": 18,
   "id": "7d4c8fbf",
   "metadata": {},
   "outputs": [],
   "source": [
    "def rm(file): \n",
    "    file = str(file)\n",
    "    fid = exist(file)\n",
    "    if fid != \"\":\n",
    "        t = cur.execute(\"select type from meta where meta.id = ?\", (fid,)).fetchone()\n",
    "        t = t[0]\n",
    "        if t == 'f':\n",
    "            d = file\n",
    "            d = d.split('/')\n",
    "            d = d[:-1]\n",
    "            if d == ['']: \n",
    "                d = \"/\"\n",
    "            else:\n",
    "                d = \"/\".join(d)\n",
    "            id_parent = exist(d)\n",
    "            # delete the file information in meta, parent-child relationship in dir, and the partition tables in par\n",
    "            table = cur.execute(\"select location from par where id = ?\", (fid,)).fetchall()\n",
    "            for x in table:\n",
    "                tname = x[0]\n",
    "                cur.execute(\"drop table \" + tname) # go thru each location in par table, and drop all the table\n",
    "            cur.execute(\"delete from par where id = ?\", (fid,))\n",
    "            cur.execute(\"delete from meta where id = ?\", (fid,))\n",
    "            cur.execute(\"delete from dir where parent = ? and child = ?\", (id_parent, fid))\n",
    "            print(\"The file has been removed successfully.\")\n",
    "        else: #if it's a file\n",
    "            print(\"Please enter a valid file.\")\n",
    "    else: \n",
    "        print(\"Please enter a valid file.\")"
   ]
  },
  {
   "cell_type": "code",
   "execution_count": 19,
   "id": "4c08a862",
   "metadata": {},
   "outputs": [
    {
     "data": {
      "application/vnd.jupyter.widget-view+json": {
       "model_id": "ba9a2cdbf2a94dfd99977f35bed1b7ba",
       "version_major": 2,
       "version_minor": 0
      },
      "text/plain": [
       "HTML(value='Remove a file from the file system. Instruction: enter the file path in the box, e.g. rm /user/joh…"
      ]
     },
     "metadata": {},
     "output_type": "display_data"
    },
    {
     "data": {
      "application/vnd.jupyter.widget-view+json": {
       "model_id": "316a4f0a7abf44f7a0738d6400630464",
       "version_major": 2,
       "version_minor": 0
      },
      "text/plain": [
       "Box(children=(Text(value='', description='rm', placeholder='type the file path here'), Button(description='Sub…"
      ]
     },
     "metadata": {},
     "output_type": "display_data"
    },
    {
     "data": {
      "application/vnd.jupyter.widget-view+json": {
       "model_id": "66fbfe61aa9e4699882467928c018cc8",
       "version_major": 2,
       "version_minor": 0
      },
      "text/plain": [
       "Output()"
      ]
     },
     "metadata": {},
     "output_type": "display_data"
    }
   ],
   "source": [
    "rm_text = widgets.Text(value = '',\n",
    "                          placeholder ='type the file path here',\n",
    "                          description = 'rm',\n",
    "                          disabled = False)\n",
    "rm_instruction = widgets.widgets.HTML('Remove a file from the file system. Instruction: enter the file path in the box, e.g. rm /user/john/hello.txt, and click on submit.')\n",
    "\n",
    "submit_button = widgets.Button(description='Submit')\n",
    "def clicked(*b):\n",
    "    output4.clear_output()\n",
    "    with output4: \n",
    "        rm(rm_text.value)\n",
    "output4 = widgets.Output()\n",
    "\n",
    "rm_items = [rm_text, submit_button]\n",
    "box = Box(children = rm_items, layout = layout)\n",
    "display(rm_instruction, box, output4)\n",
    "submit_button.on_click(clicked)"
   ]
  },
  {
   "cell_type": "markdown",
   "id": "784f2ec8",
   "metadata": {},
   "source": [
    "# Navigate through EDFS"
   ]
  },
  {
   "cell_type": "code",
   "execution_count": 20,
   "id": "63cf8390",
   "metadata": {},
   "outputs": [
    {
     "data": {
      "application/vnd.jupyter.widget-view+json": {
       "model_id": "92541b71733c47f68ebb36648d423a56",
       "version_major": 2,
       "version_minor": 0
      },
      "text/plain": [
       "Button(description='/', style=ButtonStyle())"
      ]
     },
     "metadata": {},
     "output_type": "display_data"
    }
   ],
   "source": [
    "def navigate(button): \n",
    "    clear_output()\n",
    "    if button.description[0] == \"/\": \n",
    "        res = ls(button.description)\n",
    "        back = Button(description = \"go back to:\"+button.description)\n",
    "        for r in res: \n",
    "            if button.description == \"/\": \n",
    "                globals()[\"button\"+r] = Button(description = button.description+str(r))\n",
    "            else: \n",
    "                globals()[\"button\"+r] = Button(description = button.description+\"/\"+str(r))\n",
    "            globals()[\"button\"+r].on_click(navigate)\n",
    "            display(globals()[\"button\"+r])\n",
    "        back.on_click(navigate)\n",
    "        display(back)\n",
    "    else: \n",
    "        d = button.description\n",
    "        d = d.split(':')\n",
    "        d = d[1]\n",
    "        if d == \"/\": \n",
    "            display(root)\n",
    "        else: \n",
    "            d = d.split('/')\n",
    "            d = d[:-1]\n",
    "            if d == ['']: \n",
    "                d = \"/\"\n",
    "            else:\n",
    "                d = \"/\".join(d)\n",
    "            res = ls(d)\n",
    "            for r in res: \n",
    "                if d == \"/\": \n",
    "                    globals()[\"button\"+r] = Button(description = d+str(r))\n",
    "                else: \n",
    "                    globals()[\"button\"+r] = Button(description = d+\"/\"+str(r))\n",
    "                globals()[\"button\"+r].on_click(navigate)\n",
    "                display(globals()[\"button\"+r])\n",
    "            back = Button(description = \"go back to:\"+d)\n",
    "            back.on_click(navigate)\n",
    "            display(back)\n",
    "root = Button(description = \"/\")\n",
    "root.on_click(navigate)\n",
    "display(root)"
   ]
  },
  {
   "cell_type": "markdown",
   "id": "32435c62",
   "metadata": {},
   "source": [
    "# Search and Analytics"
   ]
  },
  {
   "cell_type": "code",
   "execution_count": 21,
   "id": "b939a786",
   "metadata": {},
   "outputs": [],
   "source": [
    "def getpath(filename): \n",
    "    id_file = cur.execute(\"select id from meta where name = ?\", (filename,)).fetchone()[0]\n",
    "    def get(idn, path): # input is name(no path), but files are unique in the system\n",
    "        id_parent = cur.execute(\"select parent from dir where child = ?\",(idn,)).fetchone()[0]\n",
    "        name_parent = cur.execute(\"select name from meta where meta.id = ?\",(id_parent,)).fetchone()[0]\n",
    "\n",
    "        if name_parent == \"/\":\n",
    "            path = \"/\" + path\n",
    "            return path\n",
    "\n",
    "        path = name_parent + '/' + path\n",
    "        path = get(id_parent, path)\n",
    "        return path\n",
    "    return get(id_file, filename)"
   ]
  },
  {
   "cell_type": "code",
   "execution_count": 22,
   "id": "c84b1293",
   "metadata": {},
   "outputs": [],
   "source": [
    "#search by acres burned, output the wildfire name\n",
    "def search_wildfire(l, h):\n",
    "    l = int(l)\n",
    "    h = int(h)\n",
    "    L = []\n",
    "    path = getpath(\"wildfire.csv\")\n",
    "    for i in range(len(getPartitionLocations(path))):\n",
    "        df = readPartition(path, i+1)\n",
    "        for index in df.index:\n",
    "            if (df[\"AcresBurned\"][index] >= min(l,h)) and (df[\"AcresBurned\"][index] <= max(l,h)):\n",
    "                L.append(df[\"Name\"][index])\n",
    "    L_new = []\n",
    "    for i in range(len(L)):\n",
    "        if L[i] not in L_new:\n",
    "            L_new.append(L[i])\n",
    "    print(\"The result is:\", L_new)"
   ]
  },
  {
   "cell_type": "code",
   "execution_count": 23,
   "id": "3e089e80",
   "metadata": {},
   "outputs": [],
   "source": [
    "def Mapper_search(l, h, df):\n",
    "    l = int(l)\n",
    "    h = int(h)\n",
    "    L = []\n",
    "    for index in df.index:\n",
    "        if (df[\"AcresBurned\"][index] >= min(l,h)) and (df[\"AcresBurned\"][index] <= max(l,h)):\n",
    "            L.append(df[\"Name\"][index])\n",
    "    return L\n",
    "    \n",
    "def Reducer_search(L):\n",
    "    L_new = []\n",
    "    for i in range(len(L)):\n",
    "        if L[i] not in L_new:\n",
    "            L_new.append(L[i])\n",
    "    print(L_new)\n",
    "    "
   ]
  },
  {
   "cell_type": "code",
   "execution_count": 24,
   "id": "c8c59a0c-d897-4a1c-869b-79fb25cdaa50",
   "metadata": {},
   "outputs": [
    {
     "data": {
      "application/vnd.jupyter.widget-view+json": {
       "model_id": "f769ee4fefd24539924881818eb042d1",
       "version_major": 2,
       "version_minor": 0
      },
      "text/plain": [
       "HTML(value='Search names of California wildfires happened in 2018 by number of Acres burned:')"
      ]
     },
     "metadata": {},
     "output_type": "display_data"
    },
    {
     "data": {
      "application/vnd.jupyter.widget-view+json": {
       "model_id": "4dccc1215d1b44519efafee83a78a622",
       "version_major": 2,
       "version_minor": 0
      },
      "text/plain": [
       "HTML(value='select unique Name, from wildfire, where AcresBurned > (lower) and AcresBurned < (upper)')"
      ]
     },
     "metadata": {},
     "output_type": "display_data"
    },
    {
     "data": {
      "application/vnd.jupyter.widget-view+json": {
       "model_id": "efb8f6657f9c4a4c8a01e00bc43a332c",
       "version_major": 2,
       "version_minor": 0
      },
      "text/plain": [
       "Box(children=(IntText(value=0, description='Range:', style=DescriptionStyle(description_width='initial')), Int…"
      ]
     },
     "metadata": {},
     "output_type": "display_data"
    },
    {
     "data": {
      "application/vnd.jupyter.widget-view+json": {
       "model_id": "376339d805fb4713bdfedac9c5fc0500",
       "version_major": 2,
       "version_minor": 0
      },
      "text/plain": [
       "Output()"
      ]
     },
     "metadata": {},
     "output_type": "display_data"
    }
   ],
   "source": [
    "search_lower = widgets.IntText(placeholder ='type here',\n",
    "                          description = 'Range:',\n",
    "                          disabled = False,\n",
    "                      style=style)\n",
    "search_higher = widgets.IntText(placeholder ='type here',\n",
    "                          description = '',\n",
    "                          disabled = False,\n",
    "                        style=style)\n",
    "search_instruction = widgets.widgets.HTML('Search names of California wildfires happened in 2018 by number of Acres burned:')\n",
    "sql_ins=widgets.widgets.HTML('select unique Name, from wildfire, where AcresBurned > (lower) and AcresBurned < (upper)')\n",
    "button_layout = widgets.Layout(width='auto', height='40px')\n",
    "submit_button = widgets.Button(description='Submit')\n",
    "def clicked(*b):\n",
    "    output8.clear_output()\n",
    "    with output8: \n",
    "        search_wildfire(search_lower.value, search_higher.value)\n",
    "        print(\"This search function takes a range defined by lower and upper for acres burned as input. It first uses mapPartition function on each partition of the wildfire dataset to get all the wildfires names within the given range of acres burned. Then the reduce function takes the mapPartition result for all partitions as input to check whether there are repeated names. The reduce function returns a list of unique wildfires names within the given range of acres burned.\")\n",
    "        path = getpath(\"wildfire.csv\")\n",
    "        r = range(len(getPartitionLocations(path)))\n",
    "        print(\"Input for mapPartition function:\" )\n",
    "        for i in r:\n",
    "            print(\"Partiton #\"+str(i+1)+\":\")\n",
    "            print(readPartition(path, i+1))\n",
    "        L = []\n",
    "        print(\"Output for mapPartition function:\" )\n",
    "        for i in r:\n",
    "            print(\"Partiton #\"+str(i+1)+\":\")\n",
    "            Par = readPartition(path, i+1)\n",
    "            M = Mapper_search(search_lower.value, search_higher.value, Par)\n",
    "            print(M)\n",
    "            L = L + M\n",
    "        print(\"Input for reduce function:\\n\", L)\n",
    "        print(\"Output for reduce function:\")\n",
    "        Reducer_search(L)\n",
    "            \n",
    "output8 = widgets.Output()\n",
    "\n",
    "search_items = [search_lower,search_higher, submit_button]\n",
    "box = Box(children = search_items, layout = layout)\n",
    "display(search_instruction,sql_ins, box, output8)\n",
    "submit_button.on_click(clicked)"
   ]
  },
  {
   "cell_type": "code",
   "execution_count": 25,
   "id": "ff5d4b72",
   "metadata": {},
   "outputs": [],
   "source": [
    "# select Region, (user_input) from temp, where month = (user_input)\n",
    "def search_weather(choice, month): # input: weather index and region\n",
    "    choice = str(choice)\n",
    "    month = str(month)\n",
    "    path = getpath(\"weather.csv\")\n",
    "    Mapper = {} # list for storing dictionaries (key, value) pairs\n",
    "    for i in range(len(getPartitionLocations(path))): # i+1\n",
    "        Par = readPartition(path, i+1)\n",
    "        Reg = Par[\"Region\"].to_numpy().tolist()\n",
    "        Mon = Par[\"Months\"].to_numpy().tolist()\n",
    "        Cho = Par[choice].to_numpy().tolist()\n",
    "        for i in range(len(Mon)): \n",
    "            if Mon[i] == month: \n",
    "                Mapper[Reg[i]] = Cho[i]\n",
    "    print(\"The result is:\", Mapper)"
   ]
  },
  {
   "cell_type": "code",
   "execution_count": 26,
   "id": "4b900cda",
   "metadata": {},
   "outputs": [],
   "source": [
    "def Mapper_sw(choice, month, Par):\n",
    "    Mapper = {}\n",
    "    Reg = Par[\"Region\"].to_numpy().tolist()\n",
    "    Mon = Par[\"Months\"].to_numpy().tolist()\n",
    "    Cho = Par[choice].to_numpy().tolist()\n",
    "    for i in range(len(Mon)): \n",
    "        if Mon[i] == month: \n",
    "            Mapper[Reg[i]] = Cho[i]\n",
    "    print(Mapper)"
   ]
  },
  {
   "cell_type": "code",
   "execution_count": 27,
   "id": "52ea7767",
   "metadata": {},
   "outputs": [
    {
     "data": {
      "application/vnd.jupyter.widget-view+json": {
       "model_id": "2c690b98a6ce4df4b8599662c617a99a",
       "version_major": 2,
       "version_minor": 0
      },
      "text/plain": [
       "HTML(value='Show the data of a specified weather factor that relates to California wildfires in a specified mo…"
      ]
     },
     "metadata": {},
     "output_type": "display_data"
    },
    {
     "data": {
      "application/vnd.jupyter.widget-view+json": {
       "model_id": "9bf45920970c4408adf033b0b40b04b6",
       "version_major": 2,
       "version_minor": 0
      },
      "text/plain": [
       "HTML(value='select counties, (choice) from weather where month = (month)')"
      ]
     },
     "metadata": {},
     "output_type": "display_data"
    },
    {
     "data": {
      "application/vnd.jupyter.widget-view+json": {
       "model_id": "d777820b3aba4392a12e2218cbddfd78",
       "version_major": 2,
       "version_minor": 0
      },
      "text/plain": [
       "Dropdown(description='Month:', options=('Jan', 'Feb', 'Mar', 'Apr', 'May', 'Jun', 'Jul', 'Aug', 'Sep', 'Oct', …"
      ]
     },
     "metadata": {},
     "output_type": "display_data"
    },
    {
     "data": {
      "application/vnd.jupyter.widget-view+json": {
       "model_id": "aa34f5b8a6dd4ff79f6a90031c6d1b4a",
       "version_major": 2,
       "version_minor": 0
      },
      "text/plain": [
       "Dropdown(description='Factor:', options=('Precipitation(in)', 'AvgTemperature(F)', 'AvgHumidity(%)'), style=De…"
      ]
     },
     "metadata": {},
     "output_type": "display_data"
    },
    {
     "data": {
      "application/vnd.jupyter.widget-view+json": {
       "model_id": "cc140331ba214c67a0570282d38f4979",
       "version_major": 2,
       "version_minor": 0
      },
      "text/plain": [
       "Button(description='Submit', style=ButtonStyle())"
      ]
     },
     "metadata": {},
     "output_type": "display_data"
    },
    {
     "data": {
      "application/vnd.jupyter.widget-view+json": {
       "model_id": "0eb29d6f791f42c3ac2707a1c7b6568d",
       "version_major": 2,
       "version_minor": 0
      },
      "text/plain": [
       "Output()"
      ]
     },
     "metadata": {},
     "output_type": "display_data"
    }
   ],
   "source": [
    "sw_month = widgets.Dropdown(\n",
    "    options=['Jan', 'Feb', 'Mar', 'Apr', 'May','Jun','Jul','Aug','Sep','Oct','Nov','Dec'],\n",
    "    description='Month:',\n",
    "    disabled=False,\n",
    "    style=style\n",
    ")\n",
    "sw_choice = widgets.Dropdown(\n",
    "    options=['Precipitation(in)', 'AvgTemperature(F)', 'AvgHumidity(%)'],\n",
    "    description='Factor:',\n",
    "    disabled=False,\n",
    "    style=style\n",
    ")\n",
    "sw_instruction = widgets.widgets.HTML('Show the data of a specified weather factor that relates to California wildfires in a specified month in 2018 in each regions:')\n",
    "sw_sql = widgets.widgets.HTML('select counties, (choice) from weather where month = (month)')\n",
    "submit_button = widgets.Button(description='Submit')\n",
    "def clicked(*b):\n",
    "    output9.clear_output()\n",
    "    with output9: \n",
    "        search_weather(sw_choice.value, sw_month.value)\n",
    "        print(\"This search function takes a user’s choice of weather data type and a month as input. It uses mapPartition function on each partition of the weather dataset to get all the weather data for each region in the given month, and outputs the full dictionary of regions corresponding to their weather data. \")\n",
    "        path = getpath(\"weather.csv\")\n",
    "        r = range(len(getPartitionLocations(path)))\n",
    "        print(\"Input for mapPartition function:\" )\n",
    "        for i in r:\n",
    "            print(\"Partiton #\"+str(i+1)+\":\")\n",
    "            print(readPartition(path, i+1))\n",
    "        print(\"Output for mapPartition function:\" )\n",
    "        for i in r:\n",
    "            print(\"Partiton #\"+str(i+1)+\":\")\n",
    "            Par = readPartition(path, i+1)\n",
    "            Mapper_sw(sw_choice.value, sw_month.value, Par)\n",
    "output9 = widgets.Output()\n",
    "display(sw_instruction,sw_sql, sw_month, sw_choice, submit_button, output9)\n",
    "submit_button.on_click(clicked)"
   ]
  },
  {
   "cell_type": "code",
   "execution_count": 28,
   "id": "4365d0bb",
   "metadata": {},
   "outputs": [],
   "source": [
    "# select Counties, count(Name) from wildfire, group by Counties, having count > ?\n",
    "def analyze_wildfire(l, u, m): # output: counties with # of wildfires >= m\n",
    "    l = int(l)\n",
    "    u = int(u)\n",
    "    m = int(m)\n",
    "    path = getpath(\"wildfire.csv\")\n",
    "    Mapper = [] # list for storing dictionaries key, value pairs\n",
    "    for i in range(len(getPartitionLocations(path))): # i+1\n",
    "        Par = readPartition(path, i+1)\n",
    "        Coun = Par['Counties'].to_numpy().tolist()\n",
    "        Month = Par['Started'].to_numpy().tolist()\n",
    "        for i in range(len(Coun)):\n",
    "            if int(Month[i][5:7]) >= min(l,u) and int(Month[i][5:7]) <= max(l,u): \n",
    "                D = {} # dictionary for storing each (county,1) pair\n",
    "                D[Coun[i]] = 1\n",
    "                Mapper.append(D)\n",
    "    #print(Mapper)\n",
    "    Comb = {} # combiner \n",
    "    for d in Mapper:\n",
    "        county = list(d.keys())[0]\n",
    "        if county not in Comb:\n",
    "            Comb[county] = [1]\n",
    "        else:\n",
    "            Comb[county].append(1)\n",
    "    #print(Comb)\n",
    "    Reducer = {}\n",
    "    for key in Comb:\n",
    "        if sum(Comb[key]) >= m:\n",
    "            Reducer[key] = sum(Comb[key])\n",
    "    Reducer = sorted(Reducer.items(), key=lambda x:x[1], reverse = True)\n",
    "    Reducer = dict(Reducer)\n",
    "    print(\"The result is:\",Reducer)"
   ]
  },
  {
   "cell_type": "code",
   "execution_count": 29,
   "id": "de435c91",
   "metadata": {},
   "outputs": [],
   "source": [
    "def Mapper_aw(Par,l,u): \n",
    "    l = int(l)\n",
    "    u = int(u)\n",
    "    Mapper = []\n",
    "    Coun = Par['Counties'].to_numpy().tolist()\n",
    "    Month = Par['Started'].to_numpy().tolist()\n",
    "    for i in range(len(Coun)):\n",
    "        if int(Month[i][5:7]) >= min(l,u) and int(Month[i][5:7]) <= max(l,u): \n",
    "            D = {} # dictionary for storing each (county,1) pair\n",
    "            D[Coun[i]] = 1\n",
    "            Mapper.append(D)\n",
    "    return Mapper\n",
    "def Reducer_aw(Mapper, m):\n",
    "    m = int(m)\n",
    "    Comb = {} # combiner \n",
    "    for d in Mapper:\n",
    "        county = list(d.keys())[0]\n",
    "        if county not in Comb:\n",
    "            Comb[county] = [1]\n",
    "        else:\n",
    "            Comb[county].append(1)\n",
    "    Reducer = {}\n",
    "    for key in Comb:\n",
    "        if sum(Comb[key]) >= m:\n",
    "            Reducer[key] = sum(Comb[key])\n",
    "    Reducer = sorted(Reducer.items(), key=lambda x:x[1], reverse = True)\n",
    "    Reducer = dict(Reducer)\n",
    "    print(Reducer)"
   ]
  },
  {
   "cell_type": "code",
   "execution_count": 30,
   "id": "9c4d2062",
   "metadata": {},
   "outputs": [
    {
     "data": {
      "application/vnd.jupyter.widget-view+json": {
       "model_id": "d83b0042530e411cafabd757635751d8",
       "version_major": 2,
       "version_minor": 0
      },
      "text/plain": [
       "HTML(value='Show a list of counties in California that had more than the given number of wildfires during the …"
      ]
     },
     "metadata": {},
     "output_type": "display_data"
    },
    {
     "data": {
      "application/vnd.jupyter.widget-view+json": {
       "model_id": "9f3a0c25390b402cb0fe661e8ba88241",
       "version_major": 2,
       "version_minor": 0
      },
      "text/plain": [
       "HTML(value='select Counties, count(Name) from wildfire where month >= (lower) and month <= (upper) group by Co…"
      ]
     },
     "metadata": {},
     "output_type": "display_data"
    },
    {
     "data": {
      "application/vnd.jupyter.widget-view+json": {
       "model_id": "61c9a0de9d3146cf898215c0d513e786",
       "version_major": 2,
       "version_minor": 0
      },
      "text/plain": [
       "Box(children=(Dropdown(description='Month range:', options=(1, 2, 3, 4, 5, 6, 7, 8, 9, 10, 11, 12), style=Desc…"
      ]
     },
     "metadata": {},
     "output_type": "display_data"
    },
    {
     "data": {
      "application/vnd.jupyter.widget-view+json": {
       "model_id": "42862c144b144848af7bc685c71c7a09",
       "version_major": 2,
       "version_minor": 0
      },
      "text/plain": [
       "IntText(value=0, description='number:', style=DescriptionStyle(description_width='initial'))"
      ]
     },
     "metadata": {},
     "output_type": "display_data"
    },
    {
     "data": {
      "application/vnd.jupyter.widget-view+json": {
       "model_id": "ad6d2ef46d0249c19436286415a97cf4",
       "version_major": 2,
       "version_minor": 0
      },
      "text/plain": [
       "Button(description='Submit', style=ButtonStyle())"
      ]
     },
     "metadata": {},
     "output_type": "display_data"
    },
    {
     "data": {
      "application/vnd.jupyter.widget-view+json": {
       "model_id": "89d8b4db6b4c4d9dbf6cab8b85eb04c1",
       "version_major": 2,
       "version_minor": 0
      },
      "text/plain": [
       "Output()"
      ]
     },
     "metadata": {},
     "output_type": "display_data"
    }
   ],
   "source": [
    "aw_lower = widgets.Dropdown(\n",
    "    options=[1, 2, 3, 4, 5, 6, 7, 8, 9, 10, 11, 12],\n",
    "    description='Month range:',\n",
    "    disabled=False,\n",
    "    style=style\n",
    ")\n",
    "aw_upper = widgets.Dropdown(\n",
    "    options=[1, 2, 3, 4, 5, 6, 7, 8, 9, 10, 11, 12],\n",
    "    description='',\n",
    "    disabled=False,\n",
    "    style=style\n",
    ")\n",
    "aw_num = widgets.IntText(description = 'number:',\n",
    "                        disabled = False,\n",
    "                       style = style)\n",
    "aw_instruction = widgets.widgets.HTML('Show a list of counties in California that had more than the given number of wildfires during the given range of months in 2018:')\n",
    "aw_sql = widgets.widgets.HTML('select Counties, count(Name) from wildfire where month >= (lower) and month <= (upper) group by Counties having count > (num) order by count(Name) desc')\n",
    "submit_button = widgets.Button(description='Submit')\n",
    "def clicked(*b):\n",
    "    output10.clear_output()\n",
    "    with output10: \n",
    "        analyze_wildfire(aw_lower.value, aw_upper.value, aw_num.value)\n",
    "        print(\"This analytics function takes a range defined by lower and upper for months and a number as input. It first uses mapPartition function on each partition of the wildfire dataset to get all the counties in which the wildfires started within the given range of months. The mapPartition function returns county names with a corresponding count 1. Then the reduce function takes the mapPartition result for all partitions as input to group counties together and sum up the counts. If the count is greater than the num given, the reduce function will return the county name with the count. The output for the reduce function is a dictionary of county names with corresponding count of wildfires which happened in the given range of month and which is greater than the num given. \")\n",
    "        path = getpath(\"wildfire.csv\")\n",
    "        r = range(len(getPartitionLocations(path)))\n",
    "        print(\"Input for mapPartition function:\" )\n",
    "        for i in r:\n",
    "            print(\"Partiton #\"+str(i+1)+\":\")\n",
    "            print(readPartition(path, i+1))\n",
    "        L = []\n",
    "        print(\"Output for mapPartition function:\" )\n",
    "        for i in r:\n",
    "            print(\"Partiton #\"+str(i+1)+\":\")\n",
    "            Par = readPartition(path, i+1)\n",
    "            M = Mapper_aw(Par, aw_lower.value, aw_upper.value)\n",
    "            print(M)\n",
    "            L = L+M\n",
    "        print(\"Input for reduce function:\\n\", L)\n",
    "        print(\"Output for reduce function:\")\n",
    "        Reducer_aw(L,aw_num.value)\n",
    "output10 = widgets.Output()\n",
    "\n",
    "aw_items = [aw_lower,aw_upper]\n",
    "box = Box(children = aw_items, layout = layout)\n",
    "display(aw_instruction,aw_sql, box, aw_num, submit_button, output10)\n",
    "submit_button.on_click(clicked)"
   ]
  },
  {
   "cell_type": "code",
   "execution_count": null,
   "id": "fde58638",
   "metadata": {},
   "outputs": [],
   "source": []
  },
  {
   "cell_type": "code",
   "execution_count": null,
   "id": "1f9e0dea",
   "metadata": {},
   "outputs": [],
   "source": []
  }
 ],
 "metadata": {
  "kernelspec": {
   "display_name": "Python 3 (ipykernel)",
   "language": "python",
   "name": "python3"
  },
  "language_info": {
   "codemirror_mode": {
    "name": "ipython",
    "version": 3
   },
   "file_extension": ".py",
   "mimetype": "text/x-python",
   "name": "python",
   "nbconvert_exporter": "python",
   "pygments_lexer": "ipython3",
   "version": "3.9.13"
  }
 },
 "nbformat": 4,
 "nbformat_minor": 5
}
